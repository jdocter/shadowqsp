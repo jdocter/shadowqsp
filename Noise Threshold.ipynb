{
 "cells": [
  {
   "cell_type": "code",
   "execution_count": 1,
   "id": "d529509b",
   "metadata": {},
   "outputs": [],
   "source": [
    "import tensorflow as tf\n",
    "import numpy as np\n",
    "from tensorflow import keras\n",
    "from keras.callbacks import Callback\n",
    "\n",
    "import pandas as pd\n",
    "import cirq\n",
    "import sympy\n",
    "import numpy as np\n",
    "import scipy\n",
    "from scipy.linalg import eigh, cholesky\n",
    "from scipy.stats import norm, multivariate_normal\n",
    "\n",
    "from pylab import plot, show, axis, subplot, xlabel, ylabel, grid\n",
    "\n",
    "# visualization tools\n",
    "import seaborn as sns\n",
    "import pandas as pd\n",
    "%matplotlib inline\n",
    "import matplotlib.pyplot as plt\n",
    "from cirq.contrib.svg import SVGCircuit\n",
    "import IPython\n",
    "\n",
    "sns.set()\n",
    "plt.rcParams['figure.figsize'] = [10, 5]\n",
    "InteractiveShell = IPython.core.interactiveshell.InteractiveShell\n",
    "InteractiveShell.ast_node_interactivity = \"all\"\n",
    "tf.random.set_seed(5)"
   ]
  },
  {
   "cell_type": "code",
   "execution_count": 108,
   "id": "87ff7d7f",
   "metadata": {},
   "outputs": [],
   "source": [
    "import tensorflow as tf\n",
    "from tensorflow import keras\n",
    "import numpy as np\n",
    "\n",
    "\n",
    "class VThresh(keras.layers.Layer):\n",
    "    \"\"\"Parameterized quantum signal processing layer.\n",
    "\n",
    "    The `QSP` layer implements the quantum signal processing circuit with trainable QSP angles.\n",
    "\n",
    "    The input of the layer is/are theta(s) where x = cos(theta), and w(x) is X rotation in the QSP sequence.\n",
    "\n",
    "    The output is the real part of the upper left element in the resulting unitary that describes the whole sequence.\n",
    "    This is Re[P(x)] in the representation of the QSP unitary from Gilyen et al.\n",
    "\n",
    "    Input is of the form:\n",
    "    [[theta1], [theta2], ... ]\n",
    "\n",
    "    Output is of the form:\n",
    "    [[P(x1)], [P(x2)], ...]\n",
    "\n",
    "    The layer requires the desired polynomial degree of P(x)\n",
    "\n",
    "    \"\"\"\n",
    "\n",
    "    def __init__(self, poly_deg=0):\n",
    "        \"\"\"\n",
    "        Params\n",
    "        ------\n",
    "        poly_deg: The desired degree of the polynomial in the QSP sequence.\n",
    "            the layer will be parameterized with poly_deg + 1 trainable phi.\n",
    "        \"\"\"\n",
    "        super(VThresh, self).__init__()\n",
    "        self.poly_deg = poly_deg\n",
    "        phi_init = tf.random_uniform_initializer(minval=0, maxval=np.pi)\n",
    "        self.phis = tf.Variable(\n",
    "            initial_value=phi_init(shape=(poly_deg, 1), dtype=tf.float32),\n",
    "            trainable=True,\n",
    "        )\n",
    "    \n",
    "    def unitary(self, inp):\n",
    "        \"\"\"\n",
    "        Shadow QSP \n",
    "        q0 ---\n",
    "        q1 ---\n",
    "        Order \n",
    "            phi[q1], controlled U[q0,q1], V[q0]\n",
    "            d times\n",
    "        \"\"\"\n",
    "        th = inp[:,None,0]\n",
    "        eps = inp[:,None,1]\n",
    "        batch_dim = tf.gather(tf.shape(th), 0)\n",
    "        \n",
    "        \n",
    "        # tiled up X rotations (input W(x))\n",
    "        px = tf.constant([[0.0, 1], [1, 0]], dtype=tf.complex64)\n",
    "        px = tf.expand_dims(px, axis=0)\n",
    "        px = tf.repeat(px, [batch_dim], axis=0)\n",
    "        \n",
    "        rot_x_arg = tf.complex(real=0.0, imag=th)\n",
    "        rot_x_arg = tf.expand_dims(rot_x_arg, axis=1)\n",
    "        rot_x_arg = tf.tile(rot_x_arg, [1, 2, 2])\n",
    "        \n",
    "\n",
    "        wx = tf.linalg.LinearOperatorFullMatrix(tf.linalg.expm(tf.multiply(px, rot_x_arg)))\n",
    "\n",
    "        c_op = tf.linalg.LinearOperatorFullMatrix(tf.constant([[0, 0], [0, 1]], dtype=tf.complex64))\n",
    "        c_op = tf.linalg.LinearOperatorKronecker([c_op, wx])\n",
    "        i_op = tf.constant([[[1.0,0,0,0], \n",
    "                            [0,1,0,0],\n",
    "                            [0,0,0,0],\n",
    "                            [0,0,0,0]]], dtype=tf.complex64)\n",
    "        i_op = tf.repeat(i_op, [batch_dim], axis=0)\n",
    "        c_op = c_op.to_dense() + i_op\n",
    "        \n",
    "        # tiled up V rotations\n",
    "\n",
    "        px = tf.constant([[0.0, 1], [1, 0]], dtype=tf.complex64)\n",
    "        px = tf.expand_dims(px, axis=0)\n",
    "        px = tf.repeat(px, [batch_dim], axis=0)\n",
    "        \n",
    "        \n",
    "        rot_v_arg = tf.complex(real=0.0, imag=eps)\n",
    "        rot_v_arg = tf.expand_dims(rot_v_arg, axis=1)\n",
    "        rot_v_arg = tf.tile(rot_v_arg, [1, 2, 2])\n",
    "        \n",
    "        rv = tf.linalg.LinearOperatorFullMatrix(tf.linalg.expm(tf.multiply(px, rot_v_arg)))\n",
    "\n",
    "        pi = tf.linalg.LinearOperatorFullMatrix(tf.constant([[1, 0], [0, 1]], dtype=tf.complex64))\n",
    "        v_op = tf.linalg.LinearOperatorKronecker([rv, pi]).to_dense()\n",
    "        \n",
    "        \n",
    "        # tiled up Z rotations\n",
    "        pz = tf.constant([[1.0, 0], [0, -1]], dtype=tf.complex64)\n",
    "        pz = tf.expand_dims(pz, axis=0)\n",
    "        pz = tf.repeat(pz, [batch_dim], axis=0)\n",
    "\n",
    "        z_rotations = []\n",
    "        for k in range(self.poly_deg):\n",
    "            phi = self.phis[k]\n",
    "            rot_z_arg = tf.complex(real=0.0, imag=phi)\n",
    "            rot_z_arg = tf.expand_dims(rot_z_arg, axis=0)\n",
    "            rot_z_arg = tf.expand_dims(rot_z_arg, axis=0)\n",
    "            rot_z_arg = tf.tile(rot_z_arg, [batch_dim, 2, 2])\n",
    "\n",
    "            rz = tf.linalg.LinearOperatorFullMatrix(tf.linalg.expm(tf.multiply(pz, rot_z_arg)))\n",
    "            pi = tf.linalg.LinearOperatorFullMatrix(tf.constant([[1, 0], [0, 1]], dtype=tf.complex64))\n",
    "            rz = tf.linalg.LinearOperatorKronecker([pi, rz]).to_dense()\n",
    "            z_rotations.append(rz)\n",
    "            \n",
    "        u = z_rotations[0]\n",
    "        u = tf.matmul(c_op, u)\n",
    "        u = tf.matmul(v_op, u)\n",
    "        for rz in z_rotations[1:]:\n",
    "            u = tf.matmul(rz, u)\n",
    "            u = tf.matmul(c_op, u)\n",
    "            u = tf.matmul(v_op, u)\n",
    "        \n",
    "        \n",
    "        # initial state \n",
    "        init_state = self.random_init_state(batch_dim)\n",
    "        \n",
    "        final_state = tf.matmul(u,init_state)\n",
    "        \n",
    "        # expectation \n",
    "        exp = tf.concat([tf.norm(final_state[:,:2],axis=1), tf.norm(final_state[:,2:],axis=1)], axis=1)\n",
    "        return exp\n",
    "    \n",
    "    def random_init_state(self, batch_dim):\n",
    "        px = tf.tile(tf.constant([[[0.0,1], [1,0]]], dtype=tf.complex64),[batch_dim,1,1])\n",
    "\n",
    "        init_env_rot_ang = tf.tile(\n",
    "            tf.complex(\n",
    "                real=0.0, \n",
    "                imag=tf.random.uniform(\n",
    "                    (batch_dim,1,1), minval=0, maxval=np.pi/4, dtype=tf.dtypes.float32\n",
    "                )\n",
    "            ),\n",
    "            [1,2,2]\n",
    "        )\n",
    "\n",
    "        init_env_rot = tf.linalg.LinearOperatorFullMatrix(tf.linalg.expm(tf.multiply(px, init_env_rot_ang)))\n",
    "        pi = tf.linalg.LinearOperatorFullMatrix(tf.constant([[1,0],[0,1]], dtype=tf.complex64))\n",
    "        init_env_rot = tf.linalg.LinearOperatorKronecker([init_env_rot,pi]).to_dense()\n",
    "        init_state = tf.matmul(init_env_rot, [[1],[0],[0],[0]])\n",
    "        \n",
    "        return init_state\n",
    "    \n",
    "    def call(self, inp):\n",
    "        return tf.abs(self.unitary(inp))\n",
    "#         e = tf.matvec(u,s)\n",
    "#         e = tf.matvec(f,u)\n",
    "#         return tf.norm(e)\n",
    "\n",
    "def frobenius_norm(y,x):\n",
    "    u = x-y\n",
    "    u = tf.norm(u, ord='euclidean',axis=1)\n",
    "    u = tf.norm(u, ord='euclidean',axis=1)\n",
    "    return u\n",
    "\n",
    "\n",
    "class EarlyStoppingByLossVal(Callback):\n",
    "    def __init__(self, monitor='val_loss', value=0.00001, verbose=0):\n",
    "        super(Callback, self).__init__()\n",
    "        self.monitor = monitor\n",
    "        self.value = value\n",
    "        self.verbose = verbose\n",
    "\n",
    "    def on_epoch_end(self, epoch, logs={}):\n",
    "        current = logs.get(self.monitor)\n",
    "        if current is None:\n",
    "            print(\"Early stopping requires %s available!\" % self.monitor)\n",
    "\n",
    "        if current < self.value:\n",
    "            if self.verbose > 0:\n",
    "                print(\"Epoch %05d: early stopping THR\" % epoch)\n",
    "            self.model.stop_training = True\n",
    "            \n",
    "            \n",
    "def construct_qsp_model2(poly_deg):\n",
    "    \"\"\"Helper function that compiles a QSP model with mean squared error and adam optimizer.\n",
    "\n",
    "    Params\n",
    "    ------\n",
    "    poly_deg : int\n",
    "        the desired degree of the polynomial in the QSP sequence.\n",
    "\n",
    "    Returns\n",
    "    -------\n",
    "    Keras model\n",
    "        a compiled keras model with trainable phis in a poly_deg QSP sequence.\n",
    "    \"\"\"\n",
    "    theta_input = tf.keras.Input(shape=(2,), dtype=tf.float32, name=\"theta\")\n",
    "    qsp = VThresh(poly_deg)\n",
    "    u = qsp(theta_input)\n",
    "    model = tf.keras.Model(inputs=theta_input, outputs=u)\n",
    "    optimizer = tf.keras.optimizers.Adam(learning_rate=0.05)\n",
    "    loss = tf.keras.losses.MeanSquaredError()\n",
    "    model.compile(optimizer=optimizer, loss=loss)\n",
    "    return qsp, model\n"
   ]
  },
  {
   "cell_type": "code",
   "execution_count": 96,
   "id": "0d123378",
   "metadata": {
    "scrolled": true
   },
   "outputs": [
    {
     "data": {
      "text/plain": [
       "<tf.Tensor: shape=(3, 2, 2), dtype=complex64, numpy=\n",
       "array([[[0.+0.73143977j, 0.+0.73143977j],\n",
       "        [0.+0.73143977j, 0.+0.73143977j]],\n",
       "\n",
       "       [[0.+0.7777174j , 0.+0.7777174j ],\n",
       "        [0.+0.7777174j , 0.+0.7777174j ]],\n",
       "\n",
       "       [[0.+0.2583328j , 0.+0.2583328j ],\n",
       "        [0.+0.2583328j , 0.+0.2583328j ]]], dtype=complex64)>"
      ]
     },
     "execution_count": 96,
     "metadata": {},
     "output_type": "execute_result"
    },
    {
     "data": {
      "text/plain": [
       "<tf.Tensor: shape=(3, 4, 1), dtype=complex64, numpy=\n",
       "array([[[0.7442134 +0.j        ],\n",
       "        [0.        +0.j        ],\n",
       "        [0.        +0.6679419j ],\n",
       "        [0.        +0.j        ]],\n",
       "\n",
       "       [[0.71251696+0.j        ],\n",
       "        [0.        +0.j        ],\n",
       "        [0.        +0.70165485j],\n",
       "        [0.        +0.j        ]],\n",
       "\n",
       "       [[0.96681726+0.j        ],\n",
       "        [0.        +0.j        ],\n",
       "        [0.        +0.25546902j],\n",
       "        [0.        +0.j        ]]], dtype=complex64)>"
      ]
     },
     "execution_count": 96,
     "metadata": {},
     "output_type": "execute_result"
    },
    {
     "data": {
      "text/plain": [
       "<tf.Tensor: shape=(3, 2, 1), dtype=complex64, numpy=\n",
       "array([[[0.7442134 +0.j],\n",
       "        [0.        +0.j]],\n",
       "\n",
       "       [[0.71251696+0.j],\n",
       "        [0.        +0.j]],\n",
       "\n",
       "       [[0.96681726+0.j],\n",
       "        [0.        +0.j]]], dtype=complex64)>"
      ]
     },
     "execution_count": 96,
     "metadata": {},
     "output_type": "execute_result"
    },
    {
     "data": {
      "text/plain": [
       "<tf.Tensor: shape=(3, 1), dtype=complex64, numpy=\n",
       "array([[0.6679419 +0.j],\n",
       "       [0.70165485+0.j],\n",
       "       [0.25546902+0.j]], dtype=complex64)>"
      ]
     },
     "execution_count": 96,
     "metadata": {},
     "output_type": "execute_result"
    }
   ],
   "source": [
    "px = tf.tile(tf.constant([[[0.0,1], [1,0]]], dtype=tf.complex64),[3,1,1])\n",
    "\n",
    "init_env_rot_ang = tf.tile(\n",
    "    tf.complex(\n",
    "        real=0.0, \n",
    "        imag=tf.random.uniform(\n",
    "            (3,1,1), minval=0, maxval=np.pi/4, dtype=tf.dtypes.float32\n",
    "        )\n",
    "    ),\n",
    "    [1,2,2]\n",
    ")\n",
    "\n",
    "init_env_rot_ang\n",
    "init_env_rot = tf.linalg.LinearOperatorFullMatrix(tf.linalg.expm(tf.multiply(px, init_env_rot_ang)))\n",
    "pi = tf.linalg.LinearOperatorFullMatrix(tf.constant([[1,0],[0,1]], dtype=tf.complex64))\n",
    "init_env_rot = tf.linalg.LinearOperatorKronecker([init_env_rot,pi]).to_dense()\n",
    "init_env_state = tf.matmul(init_env_rot, [[1],[0],[0],[0]])\n",
    "init_env_state\n",
    "init_env_state[:,0:2]\n",
    "\n",
    "tf.norm(init_env_state[:,2:],axis=1)"
   ]
  },
  {
   "cell_type": "code",
   "execution_count": 111,
   "id": "f89bed71",
   "metadata": {
    "scrolled": false
   },
   "outputs": [
    {
     "data": {
      "text/plain": [
       "[<matplotlib.lines.Line2D at 0x7f80aae715b0>]"
      ]
     },
     "execution_count": 111,
     "metadata": {},
     "output_type": "execute_result"
    },
    {
     "name": "stdout",
     "output_type": "stream",
     "text": [
      "tf.Tensor(\n",
      "[[0.82564163+0.j 0.56419474+0.j]\n",
      " [0.7682203 +0.j 0.64018553+0.j]], shape=(2, 2), dtype=complex64)\n"
     ]
    },
    {
     "data": {
      "image/png": "[encoded data removed]",
      "text/plain": [
       "<Figure size 720x360 with 1 Axes>"
      ]
     },
     "metadata": {},
     "output_type": "display_data"
    }
   ],
   "source": [
    "n = 8\n",
    "theta = np.pi/2\n",
    "nv = 100\n",
    "v = np.pi/nv # x rotation\n",
    "poly_deg = 2\n",
    "\n",
    "# The intput theta training values \n",
    "th_in = tf.constant([[theta,np.pi/2],[theta,0]],dtype=tf.float32)\n",
    "# The desired real part of p(x) which is the upper left value in the unitary of the qsp sequence\n",
    "expected_outputs = tf.constant([[1,0],[0,1]], dtype=tf.float32)\n",
    "\n",
    "\n",
    "qsp, model = construct_qsp_model2(poly_deg)\n",
    "history = model.fit(x=th_in, y=expected_outputs, epochs=10000,verbose=0)\n",
    "\n",
    "\n",
    "loss = pd.Series(history.history['loss'])\n",
    "plt.plot(loss.rolling(40).mean().dropna())\n",
    "print(qsp.unitary(th_in))"
   ]
  },
  {
   "cell_type": "code",
   "execution_count": 106,
   "id": "b8546ae2",
   "metadata": {},
   "outputs": [
    {
     "name": "stdout",
     "output_type": "stream",
     "text": [
      "tf.Tensor([[0.94919324+0.j]], shape=(1, 1), dtype=complex64)\n",
      "tf.Tensor([[0.94919324+0.j 0.31469446+0.j]], shape=(1, 2), dtype=complex64)\n",
      "tf.Tensor([[0.94919324+0.j 0.31469446+0.j]], shape=(1, 2), dtype=complex64)\n",
      "tf.Tensor([[0.98924893+0.j]], shape=(1, 1), dtype=complex64)\n",
      "tf.Tensor([[0.98924893+0.j 0.14623976+0.j]], shape=(1, 2), dtype=complex64)\n",
      "tf.Tensor([[0.98924893+0.j 0.14623976+0.j]], shape=(1, 2), dtype=complex64)\n"
     ]
    }
   ],
   "source": [
    "print(qsp.unitary(tf.constant([[theta,np.pi/4]],dtype=tf.float32)))\n",
    "print(qsp.unitary(tf.constant([[theta,0]],dtype=tf.float32)))"
   ]
  }
 ],
 "metadata": {
  "kernelspec": {
   "display_name": "Python 3",
   "language": "python",
   "name": "python3"
  },
  "language_info": {
   "codemirror_mode": {
    "name": "ipython",
    "version": 3
   },
   "file_extension": ".py",
   "mimetype": "text/x-python",
   "name": "python",
   "nbconvert_exporter": "python",
   "pygments_lexer": "ipython3",
   "version": "3.8.8"
  },
  "varInspector": {
   "cols": {
    "lenName": 16,
    "lenType": 16,
    "lenVar": 40
   },
   "kernels_config": {
    "python": {
     "delete_cmd_postfix": "",
     "delete_cmd_prefix": "del ",
     "library": "var_list.py",
     "varRefreshCmd": "print(var_dic_list())"
    },
    "r": {
     "delete_cmd_postfix": ") ",
     "delete_cmd_prefix": "rm(",
     "library": "var_list.r",
     "varRefreshCmd": "cat(var_dic_list()) "
    }
   },
   "types_to_exclude": [
    "module",
    "function",
    "builtin_function_or_method",
    "instance",
    "_Feature"
   ],
   "window_display": false
  }
 },
 "nbformat": 4,
 "nbformat_minor": 5
}
