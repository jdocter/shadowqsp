{
 "cells": [
  {
   "cell_type": "code",
   "execution_count": 287,
   "id": "3294e9a6",
   "metadata": {},
   "outputs": [],
   "source": [
    "from qsp_models import *\n",
    "import tensorflow as tf\n",
    "import numpy as np\n",
    "from tensorflow import keras\n",
    "import colorednoise\n",
    "from keras.callbacks import Callback\n",
    "\n",
    "import pandas as pd\n",
    "import cirq\n",
    "import sympy\n",
    "import numpy as np\n",
    "import scipy\n",
    "from scipy.linalg import eigh, cholesky\n",
    "from scipy.stats import norm, multivariate_normal\n",
    "\n",
    "from pylab import plot, show, axis, subplot, xlabel, ylabel, grid\n",
    "\n",
    "# visualization tools\n",
    "import seaborn as sns\n",
    "import pandas as pd\n",
    "%matplotlib inline\n",
    "import matplotlib.pyplot as plt\n",
    "from cirq.contrib.svg import SVGCircuit\n",
    "import IPython\n",
    "\n",
    "sns.set()\n",
    "plt.rcParams['figure.figsize'] = [10, 5]\n",
    "InteractiveShell = IPython.core.interactiveshell.InteractiveShell\n",
    "InteractiveShell.ast_node_interactivity = \"all\"\n",
    "tf.random.set_seed(5)"
   ]
  },
  {
   "cell_type": "code",
   "execution_count": 1,
   "id": "9ae0d468",
   "metadata": {
    "scrolled": false
   },
   "outputs": [
    {
     "ename": "NameError",
     "evalue": "name 'Callback' is not defined",
     "output_type": "error",
     "traceback": [
      "\u001b[0;31m---------------------------------------------------------------------------\u001b[0m",
      "\u001b[0;31mNameError\u001b[0m                                 Traceback (most recent call last)",
      "\u001b[0;32m<ipython-input-1-3cf112e55a42>\u001b[0m in \u001b[0;36m<module>\u001b[0;34m\u001b[0m\n\u001b[1;32m    132\u001b[0m \u001b[0;34m\u001b[0m\u001b[0m\n\u001b[1;32m    133\u001b[0m \u001b[0;34m\u001b[0m\u001b[0m\n\u001b[0;32m--> 134\u001b[0;31m \u001b[0;32mclass\u001b[0m \u001b[0mEarlyStoppingByLossVal\u001b[0m\u001b[0;34m(\u001b[0m\u001b[0mCallback\u001b[0m\u001b[0;34m)\u001b[0m\u001b[0;34m:\u001b[0m\u001b[0;34m\u001b[0m\u001b[0;34m\u001b[0m\u001b[0m\n\u001b[0m\u001b[1;32m    135\u001b[0m     \u001b[0;32mdef\u001b[0m \u001b[0m__init__\u001b[0m\u001b[0;34m(\u001b[0m\u001b[0mself\u001b[0m\u001b[0;34m,\u001b[0m \u001b[0mmonitor\u001b[0m\u001b[0;34m=\u001b[0m\u001b[0;34m'val_loss'\u001b[0m\u001b[0;34m,\u001b[0m \u001b[0mvalue\u001b[0m\u001b[0;34m=\u001b[0m\u001b[0;36m0.00001\u001b[0m\u001b[0;34m,\u001b[0m \u001b[0mverbose\u001b[0m\u001b[0;34m=\u001b[0m\u001b[0;36m0\u001b[0m\u001b[0;34m)\u001b[0m\u001b[0;34m:\u001b[0m\u001b[0;34m\u001b[0m\u001b[0;34m\u001b[0m\u001b[0m\n\u001b[1;32m    136\u001b[0m         \u001b[0msuper\u001b[0m\u001b[0;34m(\u001b[0m\u001b[0mCallback\u001b[0m\u001b[0;34m,\u001b[0m \u001b[0mself\u001b[0m\u001b[0;34m)\u001b[0m\u001b[0;34m.\u001b[0m\u001b[0m__init__\u001b[0m\u001b[0;34m(\u001b[0m\u001b[0;34m)\u001b[0m\u001b[0;34m\u001b[0m\u001b[0;34m\u001b[0m\u001b[0m\n",
      "\u001b[0;31mNameError\u001b[0m: name 'Callback' is not defined"
     ]
    }
   ],
   "source": [
    "import tensorflow as tf\n",
    "from tensorflow import keras\n",
    "import numpy as np\n",
    "\n",
    "\n",
    "class QSPShadow(keras.layers.Layer):\n",
    "    \"\"\"Parameterized quantum signal processing layer.\n",
    "\n",
    "    The `QSP` layer implements the quantum signal processing circuit with trainable QSP angles.\n",
    "\n",
    "    The input of the layer is/are theta(s) where x = cos(theta), and w(x) is X rotation in the QSP sequence.\n",
    "\n",
    "    The output is the real part of the upper left element in the resulting unitary that describes the whole sequence.\n",
    "    This is Re[P(x)] in the representation of the QSP unitary from Gilyen et al.\n",
    "\n",
    "    Input is of the form:\n",
    "    [[theta1], [theta2], ... ]\n",
    "\n",
    "    Output is of the form:\n",
    "    [[P(x1)], [P(x2)], ...]\n",
    "\n",
    "    The layer requires the desired polynomial degree of P(x)\n",
    "\n",
    "    \"\"\"\n",
    "\n",
    "    def __init__(self, poly_deg=0):\n",
    "        \"\"\"\n",
    "        Params\n",
    "        ------\n",
    "        poly_deg: The desired degree of the polynomial in the QSP sequence.\n",
    "            the layer will be parameterized with poly_deg + 1 trainable phi.\n",
    "        \"\"\"\n",
    "        super(QSPShadow, self).__init__()\n",
    "        self.poly_deg = poly_deg\n",
    "        phi_init = tf.random_uniform_initializer(minval=0, maxval=np.pi)\n",
    "        self.phis = tf.Variable(\n",
    "            initial_value=phi_init(shape=(poly_deg, 1), dtype=tf.float32),\n",
    "            trainable=True,\n",
    "        )\n",
    "    \n",
    "    def unitary(self, inp):\n",
    "        \"\"\"\n",
    "        Shadow QSP \n",
    "        q0 ---\n",
    "        q1 ---\n",
    "        Order \n",
    "            phi[q1], controlled U[q0,q1], V[q0]\n",
    "            d times\n",
    "        \"\"\"\n",
    "        th = inp[:,None,0]\n",
    "        eps = inp[:,None,1]\n",
    "        batch_dim = tf.gather(tf.shape(th), 0)\n",
    "        \n",
    "        \n",
    "        # tiled up X rotations (input W(x))\n",
    "        px = tf.constant([[0.0, 1], [1, 0]], dtype=tf.complex64)\n",
    "        px = tf.expand_dims(px, axis=0)\n",
    "        px = tf.repeat(px, [batch_dim], axis=0)\n",
    "        \n",
    "        rot_x_arg = tf.complex(real=0.0, imag=th)\n",
    "        rot_x_arg = tf.expand_dims(rot_x_arg, axis=1)\n",
    "        rot_x_arg = tf.tile(rot_x_arg, [1, 2, 2])\n",
    "        \n",
    "\n",
    "        wx = tf.linalg.LinearOperatorFullMatrix(tf.linalg.expm(tf.multiply(px, rot_x_arg)))\n",
    "\n",
    "        c_op = tf.linalg.LinearOperatorFullMatrix(tf.constant([[0, 0], [0, 1]], dtype=tf.complex64))\n",
    "        c_op = tf.linalg.LinearOperatorKronecker([c_op, wx])\n",
    "        i_op = tf.constant([[[1.0,0,0,0], \n",
    "                            [0,1,0,0],\n",
    "                            [0,0,0,0],\n",
    "                            [0,0,0,0]]], dtype=tf.complex64)\n",
    "        i_op = tf.repeat(i_op, [batch_dim], axis=0)\n",
    "        c_op = c_op.to_dense() + i_op\n",
    "        \n",
    "        # tiled up V rotations\n",
    "\n",
    "        px = tf.constant([[0.0, 1], [1, 0]], dtype=tf.complex64)\n",
    "        px = tf.expand_dims(px, axis=0)\n",
    "        px = tf.repeat(px, [batch_dim], axis=0)\n",
    "        \n",
    "        \n",
    "        rot_v_arg = tf.complex(real=0.0, imag=eps)\n",
    "        rot_v_arg = tf.expand_dims(rot_v_arg, axis=1)\n",
    "        rot_v_arg = tf.tile(rot_v_arg, [1, 2, 2])\n",
    "        \n",
    "        rv = tf.linalg.LinearOperatorFullMatrix(tf.linalg.expm(tf.multiply(px, rot_v_arg)))\n",
    "\n",
    "        pi = tf.linalg.LinearOperatorFullMatrix(tf.constant([[1, 0], [0, 1]], dtype=tf.complex64))\n",
    "        v_op = tf.linalg.LinearOperatorKronecker([rv, pi]).to_dense()\n",
    "        \n",
    "        \n",
    "        # tiled up Z rotations\n",
    "        pz = tf.constant([[1.0, 0], [0, -1]], dtype=tf.complex64)\n",
    "        pz = tf.expand_dims(pz, axis=0)\n",
    "        pz = tf.repeat(pz, [batch_dim], axis=0)\n",
    "\n",
    "        z_rotations = []\n",
    "        for k in range(self.poly_deg + 1):\n",
    "            phi = self.phis[k]\n",
    "            rot_z_arg = tf.complex(real=0.0, imag=phi)\n",
    "            rot_z_arg = tf.expand_dims(rot_z_arg, axis=0)\n",
    "            rot_z_arg = tf.expand_dims(rot_z_arg, axis=0)\n",
    "            rot_z_arg = tf.tile(rot_z_arg, [batch_dim, 2, 2])\n",
    "\n",
    "            rz = tf.linalg.LinearOperatorFullMatrix(tf.linalg.expm(tf.multiply(pz, rot_z_arg)))\n",
    "            pi = tf.linalg.LinearOperatorFullMatrix(tf.constant([[1, 0], [0, 1]], dtype=tf.complex64))\n",
    "            rz = tf.linalg.LinearOperatorKronecker([pi, rz]).to_dense()\n",
    "            z_rotations.append(rz)\n",
    "            \n",
    "        u = z_rotations[0]\n",
    "        u = tf.matmul(c_op, u)\n",
    "        u = tf.matmul(v_op, u)\n",
    "        for rz in z_rotations[1:]:\n",
    "            u = tf.matmul(rz, u)\n",
    "            u = tf.matmul(c_op, u)\n",
    "            u = tf.matmul(v_op, u)\n",
    "            \n",
    "        return u\n",
    "    \n",
    "    def call(self, inp):\n",
    "        return tf.abs(self.unitary(inp))\n",
    "#         e = tf.matvec(u,s)\n",
    "#         e = tf.matvec(f,u)\n",
    "#         return tf.norm(e)\n",
    "\n",
    "def frobenius_norm(y,x):\n",
    "    u = x-y\n",
    "    u = tf.norm(u, ord='euclidean',axis=1)\n",
    "    u = tf.norm(u, ord='euclidean',axis=1)\n",
    "    return u\n",
    "\n",
    "\n",
    "class EarlyStoppingByLossVal(Callback):\n",
    "    def __init__(self, monitor='val_loss', value=0.00001, verbose=0):\n",
    "        super(Callback, self).__init__()\n",
    "        self.monitor = monitor\n",
    "        self.value = value\n",
    "        self.verbose = verbose\n",
    "\n",
    "    def on_epoch_end(self, epoch, logs={}):\n",
    "        current = logs.get(self.monitor)\n",
    "        if current is None:\n",
    "            print(\"Early stopping requires %s available!\" % self.monitor)\n",
    "\n",
    "        if current < self.value:\n",
    "            if self.verbose > 0:\n",
    "                print(\"Epoch %05d: early stopping THR\" % epoch)\n",
    "            self.model.stop_training = True\n",
    "            \n",
    "            \n",
    "def construct_qsp_model2(poly_deg):\n",
    "    \"\"\"Helper function that compiles a QSP model with mean squared error and adam optimizer.\n",
    "\n",
    "    Params\n",
    "    ------\n",
    "    poly_deg : int\n",
    "        the desired degree of the polynomial in the QSP sequence.\n",
    "\n",
    "    Returns\n",
    "    -------\n",
    "    Keras model\n",
    "        a compiled keras model with trainable phis in a poly_deg QSP sequence.\n",
    "    \"\"\"\n",
    "    theta_input = tf.keras.Input(shape=(2,), dtype=tf.float32, name=\"theta\")\n",
    "    qsp = QSPShadow(poly_deg)\n",
    "    u = qsp(theta_input)\n",
    "    model = tf.keras.Model(inputs=theta_input, outputs=u)\n",
    "    optimizer = tf.keras.optimizers.Adam(learning_rate=0.05)\n",
    "    loss = tf.keras.losses.MeanSquaredError()\n",
    "    model.compile(optimizer=optimizer, loss=frobenius_norm)\n",
    "    return qsp, model\n"
   ]
  },
  {
   "cell_type": "code",
   "execution_count": 485,
   "id": "3242c895",
   "metadata": {
    "scrolled": false
   },
   "outputs": [
    {
     "name": "stdout",
     "output_type": "stream",
     "text": [
      "Epoch 00458: early stopping THR\n"
     ]
    },
    {
     "data": {
      "text/plain": [
       "[<matplotlib.lines.Line2D at 0x7f81d59aa0d0>]"
      ]
     },
     "execution_count": 485,
     "metadata": {},
     "output_type": "execute_result"
    },
    {
     "name": "stdout",
     "output_type": "stream",
     "text": [
      "tf.Tensor(\n",
      "[[[ 9.9653137e-01-0.08309266j  4.8583490e-04+0.00331148j\n",
      "    1.2973743e-03-0.00172537j  1.5319678e-03+0.00096683j]\n",
      "  [-4.8583490e-04+0.00331148j  9.9653137e-01+0.08309266j\n",
      "    1.5319678e-03-0.00096683j -1.2973743e-03-0.00172537j]\n",
      "  [ 1.4689818e-03-0.00091197j -1.6141835e-03+0.00153167j\n",
      "    2.2678226e-03-0.03725263j -9.9528021e-01-0.089526j  ]\n",
      "  [-1.6141835e-03-0.00153167j -1.4689818e-03-0.00091197j\n",
      "    9.9528021e-01-0.089526j    2.2678226e-03+0.03725263j]]], shape=(1, 4, 4), dtype=complex64)\n"
     ]
    },
    {
     "data": {
      "image/png": "[encoded data removed]",
      "text/plain": [
       "<Figure size 720x360 with 1 Axes>"
      ]
     },
     "metadata": {},
     "output_type": "display_data"
    }
   ],
   "source": [
    "n = 36\n",
    "theta = np.pi/n\n",
    "nv = 12\n",
    "v = np.pi/nv # x rotation\n",
    "poly_deg = 36\n",
    "\n",
    "# The intput theta training values \n",
    "th_in = tf.constant([[theta,v]],dtype=tf.float32)\n",
    "# The desired real part of p(x) which is the upper left value in the unitary of the qsp sequence\n",
    "expected_outputs = tf.constant([[[1,0,0,0],[0,1,0,0],[0,0,0,1],[0,0,1,0]]], dtype=tf.float32)\n",
    "\n",
    "callbacks = [\n",
    "    EarlyStoppingByLossVal(monitor='loss', value=0.05, verbose=1)\n",
    "]\n",
    "\n",
    "qsp, model = construct_qsp_model2(poly_deg)\n",
    "history = model.fit(x=th_in, y=expected_outputs, epochs=500, verbose=0, callbacks=callbacks)\n",
    "\n",
    "\n",
    "loss = pd.Series(history.history['loss'])\n",
    "plt.plot(loss.rolling(40).mean().dropna())\n",
    "print(qsp.unitary(th_in))"
   ]
  },
  {
   "cell_type": "code",
   "execution_count": 486,
   "id": "ce696ddb",
   "metadata": {},
   "outputs": [
    {
     "data": {
      "text/plain": [
       "13"
      ]
     },
     "execution_count": 486,
     "metadata": {},
     "output_type": "execute_result"
    },
    {
     "data": {
      "text/plain": [
       "1005"
      ]
     },
     "execution_count": 486,
     "metadata": {},
     "output_type": "execute_result"
    },
    {
     "data": {
      "text/plain": [
       "507"
      ]
     },
     "execution_count": 486,
     "metadata": {},
     "output_type": "execute_result"
    },
    {
     "data": {
      "text/plain": [
       "2"
      ]
     },
     "execution_count": 486,
     "metadata": {},
     "output_type": "execute_result"
    }
   ],
   "source": [
    "with open(\"logs.txt\",'a') as f:\n",
    "    f.write(\"%s, %s, %s, \\n\" %(n, nv, poly_deg))\n",
    "    f.write(str(qsp.trainable_weights))\n",
    "    f.write(str(qsp.unitary(th_in)))\n",
    "    f.write(\"\\n\\n\")\n",
    "            "
   ]
  },
  {
   "cell_type": "code",
   "execution_count": 490,
   "id": "bcbcd63f",
   "metadata": {},
   "outputs": [
    {
     "data": {
      "text/plain": [
       "<matplotlib.collections.PathCollection at 0x7f8244820d30>"
      ]
     },
     "execution_count": 490,
     "metadata": {},
     "output_type": "execute_result"
    },
    {
     "data": {
      "text/plain": [
       "<matplotlib.collections.PathCollection at 0x7f81b7656f40>"
      ]
     },
     "execution_count": 490,
     "metadata": {},
     "output_type": "execute_result"
    },
    {
     "data": {
      "text/plain": [
       "Text(0.5, 0, 'n')"
      ]
     },
     "execution_count": 490,
     "metadata": {},
     "output_type": "execute_result"
    },
    {
     "data": {
      "text/plain": [
       "Text(0, 0.5, 'sequence length')"
      ]
     },
     "execution_count": 490,
     "metadata": {},
     "output_type": "execute_result"
    },
    {
     "data": {
      "image/png": "[encoded data removed]",
      "text/plain": [
       "<Figure size 720x360 with 1 Axes>"
      ]
     },
     "metadata": {},
     "output_type": "display_data"
    }
   ],
   "source": [
    "x=[4,5,6,7,8,12,16,24,32, 48]\n",
    "y=[2, 3, 3, 4, 5, 6, 8, 12, 16, 24]\n",
    "plt.scatter(x,y)\n",
    "\n",
    "x=[4,5,6,8,10,16,20,24, 28, 32, 36]\n",
    "y=[14, 14, 14, 14, 14, 14, 14, 24, 24, 36, 36]\n",
    "plt.scatter(x,y)\n",
    "plt.xlabel(\"n\")\n",
    "plt.ylabel(\"sequence length\")\n",
    "\n"
   ]
  },
  {
   "cell_type": "code",
   "execution_count": 351,
   "id": "afa66919",
   "metadata": {},
   "outputs": [
    {
     "data": {
      "text/plain": [
       "array([[ 0.64037063-0.44097717j, -0.09759453+0.05358321j,\n",
       "        -0.34178325-0.31754027j,  0.00409758-0.46650919j],\n",
       "       [-0.09759453-0.05358321j,  0.64037063+0.44097717j,\n",
       "        -0.00409758-0.46650919j,  0.34178325-0.31754027j],\n",
       "       [-0.17606443-0.5066885j , -0.02467161-0.31167037j,\n",
       "         0.44625361-0.24045654j,  0.4784499 +0.16747336j],\n",
       "       [ 0.02467161-0.31167037j,  0.17606443-0.5066885j ,\n",
       "         0.4784499 -0.16747336j,  0.44625361+0.24045654j]])"
      ]
     },
     "execution_count": 351,
     "metadata": {},
     "output_type": "execute_result"
    }
   ],
   "source": [
    "class CRX(cirq.Gate):\n",
    "    def __init__(self, th):\n",
    "        super(CRX, self)\n",
    "        self.th = th\n",
    "\n",
    "    def _num_qubits_(self):\n",
    "        return 2\n",
    "\n",
    "    def _unitary_(self):\n",
    "        return np.array([\n",
    "            [1.0, 0, 0, 0],\n",
    "            [0, 1, 0, 0],\n",
    "            [0, 0, np.cos(self.th), - np.cos(self.th)],\n",
    "            [0, 0, -np.sin(self.th), np.cos(self.th)],\n",
    "        ]) \n",
    "\n",
    "    def _circuit_diagram_info_(self, args):\n",
    "        return \"CRX\"\n",
    "\n",
    "\n",
    "\n",
    "q0, q1 = cirq.LineQubit.range(2)\n",
    "\n",
    "def build_shadow_qsp(phis, n, nv):\n",
    "    crx = CRX(np.pi/n)\n",
    "    c = cirq.Circuit()\n",
    "    for phi in phis[]:\n",
    "        c2 = cirq.Circuit(cirq.rz(phi * 2)(q1), cirq.rx(np.pi * 2 / nv)(q0), crx.on(q0,q1))\n",
    "        c.append(c2)\n",
    "    \n",
    "    c2 = cirq.Circuit(cirq.rz(phis[0] * 2)(q1))\n",
    "    c.append(c2)\n",
    "    return c\n",
    "\n",
    "# SVGCircuit(self)\n",
    "phis = np.array([[1.9862635 ],\n",
    "       [2.3670857 ],\n",
    "       [0.77741086],\n",
    "       [1.7138617 ]])\n",
    "s = build_shadow_qsp(phis, 4, 12)\n",
    "s.unitary()"
   ]
  }
 ],
 "metadata": {
  "kernelspec": {
   "display_name": "Python 3",
   "language": "python",
   "name": "python3"
  },
  "language_info": {
   "codemirror_mode": {
    "name": "ipython",
    "version": 3
   },
   "file_extension": ".py",
   "mimetype": "text/x-python",
   "name": "python",
   "nbconvert_exporter": "python",
   "pygments_lexer": "ipython3",
   "version": "3.8.8"
  },
  "varInspector": {
   "cols": {
    "lenName": 16,
    "lenType": 16,
    "lenVar": 40
   },
   "kernels_config": {
    "python": {
     "delete_cmd_postfix": "",
     "delete_cmd_prefix": "del ",
     "library": "var_list.py",
     "varRefreshCmd": "print(var_dic_list())"
    },
    "r": {
     "delete_cmd_postfix": ") ",
     "delete_cmd_prefix": "rm(",
     "library": "var_list.r",
     "varRefreshCmd": "cat(var_dic_list()) "
    }
   },
   "types_to_exclude": [
    "module",
    "function",
    "builtin_function_or_method",
    "instance",
    "_Feature"
   ],
   "window_display": false
  }
 },
 "nbformat": 4,
 "nbformat_minor": 5
}
